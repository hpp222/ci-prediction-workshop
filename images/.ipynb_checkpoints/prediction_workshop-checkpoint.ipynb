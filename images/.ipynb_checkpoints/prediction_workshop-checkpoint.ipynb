{
 "cells": [
  {
   "cell_type": "markdown",
   "id": "073fe7fd-63e5-49d7-b30f-2e3d62da2552",
   "metadata": {},
   "source": [
    "# 预测workshop"
   ]
  },
  {
   "cell_type": "markdown",
   "id": "d10cd1dc-bf67-4e32-bb61-8fb5c91c5693",
   "metadata": {},
   "source": [
    "## 一、 运行官方SageMaker Pipeline示例\n",
    "官方代码地址 https://github.com/aws/amazon-sagemaker-examples/tree/main/advanced_functionality/autogluon-sagemaker-pipeline"
   ]
  },
  {
   "cell_type": "markdown",
   "id": "c7630e9c-a178-4248-95f9-faf2b8d85e91",
   "metadata": {},
   "source": [
    "1. 登录AWS控制台，在顶部导航栏搜索SageMaker并点击进入Amazon SageMaker控制台\n",
    "![jupyter](./img_01.png)\n",
    "\n",
    "2. 查看右上角区域，确保您在N.Virginia区域，如果不是请切换到该区域\n",
    "![jupyter](./img_02.png)\n",
    "\n",
    "3. 左侧导航栏选择“Studio”，然后点击右侧的橙色的”Create a SageMaker Domain“按钮\n",
    "![jupyter](./img_03.png)\n",
    "\n",
    "4. 选中“Set up for single user (Quick setup)”，然后点击下方橙色的\"Set up\"按钮，此配置需要5-10分钟\n",
    "![jupyter](./img_04.png)\n",
    "\n",
    "5. 配置完成后，点击左侧导航栏的“Studio”，然后点击右侧橙色的\"Open Studio\"按钮\n",
    "![jupyter](./img_05.png)\n",
    "\n",
    "6. 在Studio主页左侧导航栏，展开\"Deployments\"选项，点击“Project”\n",
    "![jupyter](./img_06.png)\n",
    "\n",
    "7. 如下图，在Create Project界面的Templates - SageMaker Templates的选项框中，选择“Model building, training, and deployment”，然后点击\"Next\"\n",
    "![jupyter](./img_07.png)\n",
    "\n",
    "8. Name处给您的Pipeline取一个名字，例如填写my-first-pipeline，然后点击右下角\"Create\"\n",
    "![jupyter](./img_08.png)\n",
    "\n",
    "9. 如下图，点击进入您刚刚创建的pipeline\n",
    "![jupyter](./img_09.png)\n",
    "\n",
    "10. 可以看到pipeline正在运行，如下图，点击execution查看运行情况\n",
    "![jupyter](./img_19.png)\n",
    "\n",
    "11. Graph显示了pipeline的流程图，整个流程包括数据预处理，模型训练和模型评估和模型注册。在pipeline执行过程中，我们可以点击Graph任意模块查看执行情况。官方示例的执行大约需要15分钟，接下来我们进入Studio Classic去查看样例pipeline的代码。\n",
    "![jupyter](./img_20.png)\n",
    "![jupyter](./img_21.png)\n",
    "\n",
    "12. 如图，在左侧导航栏的Applications中选择“Studio Classic”，然后点击\"Run\"，启动需要一定时间，请等待大约5分钟\n",
    "![jupyter](./img_10.png)\n",
    "\n",
    "13. 如图，创建完成后，点击\"Open\"，稍等片刻，您会跳转到Studio Classic环境\n",
    "![jupyter](./img_11.png)\n",
    "\n",
    "\n",
    "14. 如图\n",
    "![jupyter](./img_12.png)\n",
    "\n",
    "\n",
    "15. 如图点击clone repo，然后点击clone repository\n",
    "![jupyter](./img_13.png)\n",
    "![jupyter](./img_14.png)\n",
    "\n",
    "\n",
    "16. 如图，点击第二个clone repo，然后点击clone repository\n",
    "![jupyter](./img_15.png)\n",
    "![jupyter](./img_16.png)\n",
    "\n",
    "17. 如下图，在左侧导航栏点击文件夹按钮，我们会看到两个文件夹，首先查看model build 相关文件，双击文件夹即可进入。此文件夹的目录结构的解释可参考<https://github.com/aws/amazon-sagemaker-examples/tree/main/advanced_functionality/autogluon-sagemaker-pipeline>\n",
    "![jupyter](./img_17.png)\n",
    "\n",
    "18. 依次点击pipeline文件夹 -> abalone文件夹 -> pipeline.py，本次实验的工作流步骤在此定义。此代码可对照Graph流程图来看，如下图\n",
    "![jupyter](./img_18.png)\n",
    "![jupyter](./img_22.png)\n"
   ]
  },
  {
   "cell_type": "markdown",
   "id": "1ecbcf6d-a009-4c84-bd2b-7e7ed68ebcd6",
   "metadata": {
    "tags": []
   },
   "source": [
    "## 二、HX预测SageMaker Pipeline\n",
    "\n",
    "* 替换样例脚本\n",
    "* 用电数据上传S3\n",
    "* 修改pipeline.py脚本InputDataUrl参数"
   ]
  }
 ],
 "metadata": {
  "kernelspec": {
   "display_name": "conda_pytorch_p310",
   "language": "python",
   "name": "conda_pytorch_p310"
  },
  "language_info": {
   "codemirror_mode": {
    "name": "ipython",
    "version": 3
   },
   "file_extension": ".py",
   "mimetype": "text/x-python",
   "name": "python",
   "nbconvert_exporter": "python",
   "pygments_lexer": "ipython3",
   "version": "3.10.13"
  }
 },
 "nbformat": 4,
 "nbformat_minor": 5
}
